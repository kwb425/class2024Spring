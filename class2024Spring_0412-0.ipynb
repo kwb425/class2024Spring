{
  "cells": [
    {
      "cell_type": "markdown",
      "metadata": {
        "colab_type": "text",
        "id": "view-in-github"
      },
      "source": [
        "<a href=\"https://colab.research.google.com/github/kwb425/class2024Spring/blob/main/class2024Spring_0412-0.ipynb\" target=\"_parent\"><img src=\"https://colab.research.google.com/assets/colab-badge.svg\" alt=\"Open In Colab\"/></a>"
      ]
    },
    {
      "cell_type": "code",
      "execution_count": null,
      "metadata": {},
      "outputs": [],
      "source": [
        "!git clone https://github.com/ErikaJacobs/Harry-Potter-Text-Mining.git"
      ]
    },
    {
      "cell_type": "markdown",
      "metadata": {
        "id": "tWztLr-G8Iww"
      },
      "source": [
        "### Import Data"
      ]
    },
    {
      "cell_type": "code",
      "execution_count": 15,
      "metadata": {
        "id": "BQ9Z1E4IHtlk"
      },
      "outputs": [],
      "source": [
        "import pandas as pd #Importing Pandas package\n",
        "%cd /content/Harry-Potter-Text-Mining/Book Text\n",
        "\n",
        "import glob \n",
        "fns = glob.glob('*.txt')\n",
        "df = pd.DataFrame()\n",
        "for fn in fns:\n",
        "  dftmp = pd.read_csv(fn, sep=\"@\")\n",
        "  df = pd.concat([df, dftmp])\n",
        "\n",
        "%cd /content"
      ]
    },
    {
      "cell_type": "markdown",
      "metadata": {
        "id": "kUt0CLqZ8Iw3"
      },
      "source": [
        "### Import NLTK and Its Text Analysis Components"
      ]
    },
    {
      "cell_type": "code",
      "execution_count": null,
      "metadata": {
        "id": "E5No62Ud8Iw4"
      },
      "outputs": [],
      "source": [
        "import nltk #Import NLTK library\n",
        "nltk.download('stopwords')\n",
        "nltk.download('punkt') #installed punkt to fix error\n",
        "from nltk import word_tokenize\n",
        "from nltk.corpus import stopwords #Import stopwords to Python\n",
        "\n",
        "stopwords = set(stopwords.words('english')) #English stopwords assigned to \"stopwords\" object\n",
        "\n",
        "import string #Punctuation\n",
        "\n",
        "# Function for removing punctuation\n",
        "def remove_punctuations(text):\n",
        "    for punctuation in string.punctuation:\n",
        "        text = text.replace(punctuation, '')\n",
        "    return text\n",
        "\n",
        "stopwords = [''.join(item for item in x if item not in string.punctuation) for x in stopwords] #Remove punctuation from stopwords"
      ]
    },
    {
      "cell_type": "markdown",
      "metadata": {
        "id": "oY9NhSG38Iw5"
      },
      "source": [
        "### Creating Analysis Fields - Word Count and Word Clouds\n",
        "\n",
        "In order to do an appropriate analysis, punctuation is removed and case is lowered.\n",
        "\n",
        "For the word cloud analysis specifically, stop words are removed (\"The\", \"And\", \"So\", etc.)"
      ]
    },
    {
      "cell_type": "code",
      "execution_count": null,
      "metadata": {
        "id": "QvWdgUEb8Iw5"
      },
      "outputs": [],
      "source": [
        "df['WordCountText']=df['Text'].str.lower().apply(remove_punctuations).apply(word_tokenize) # Word Count Text\n",
        "# Word Count\n",
        "df['WordCloudText']=df['WordCountText'].apply(lambda x: [word for word in x if word not in stopwords]) # Word Cloud Text\n",
        "df['WordCount'] = df['WordCountText'].str.len() #Word Count Per Chapter\n",
        "\n",
        "df.reset_index()"
      ]
    },
    {
      "cell_type": "code",
      "execution_count": 19,
      "metadata": {
        "colab": {
          "base_uri": "https://localhost:8080/",
          "height": 337
        },
        "id": "sxXp_HaK8Iw6",
        "outputId": "60a5f10c-2eb6-4375-ba17-7965ffbfe26a"
      },
      "outputs": [
        {
          "data": {
            "text/html": [
              "\n",
              "  <div id=\"df-d6070c77-c9b1-42e5-918b-404a41181a2b\">\n",
              "    <div class=\"colab-df-container\">\n",
              "      <div>\n",
              "<style scoped>\n",
              "    .dataframe tbody tr th:only-of-type {\n",
              "        vertical-align: middle;\n",
              "    }\n",
              "\n",
              "    .dataframe tbody tr th {\n",
              "        vertical-align: top;\n",
              "    }\n",
              "\n",
              "    .dataframe thead th {\n",
              "        text-align: right;\n",
              "    }\n",
              "</style>\n",
              "<table border=\"1\" class=\"dataframe\">\n",
              "  <thead>\n",
              "    <tr style=\"text-align: right;\">\n",
              "      <th></th>\n",
              "      <th>Text</th>\n",
              "      <th>Chapter</th>\n",
              "      <th>Book</th>\n",
              "      <th>WordCountText</th>\n",
              "      <th>WordCloudText</th>\n",
              "      <th>WordCount</th>\n",
              "    </tr>\n",
              "  </thead>\n",
              "  <tbody>\n",
              "    <tr>\n",
              "      <th>0</th>\n",
              "      <td>The two men appeared out of nowhere, a few yar...</td>\n",
              "      <td>1</td>\n",
              "      <td>7</td>\n",
              "      <td>[the, two, men, appeared, out, of, nowhere, a,...</td>\n",
              "      <td>[two, men, appeared, nowhere, yards, apart, na...</td>\n",
              "      <td>3025</td>\n",
              "    </tr>\n",
              "    <tr>\n",
              "      <th>1</th>\n",
              "      <td>Harry was bleeding. Clutching his right hand i...</td>\n",
              "      <td>2</td>\n",
              "      <td>7</td>\n",
              "      <td>[harry, was, bleeding, clutching, his, right, ...</td>\n",
              "      <td>[harry, bleeding, clutching, right, hand, left...</td>\n",
              "      <td>4018</td>\n",
              "    </tr>\n",
              "    <tr>\n",
              "      <th>2</th>\n",
              "      <td>The sound of the front door slamming echoed up...</td>\n",
              "      <td>3</td>\n",
              "      <td>7</td>\n",
              "      <td>[the, sound, of, the, front, door, slamming, e...</td>\n",
              "      <td>[sound, front, door, slamming, echoed, stairs,...</td>\n",
              "      <td>3222</td>\n",
              "    </tr>\n",
              "    <tr>\n",
              "      <th>3</th>\n",
              "      <td>Harry ran back upstairs to his bedroom, arrivi...</td>\n",
              "      <td>4</td>\n",
              "      <td>7</td>\n",
              "      <td>[harry, ran, back, upstairs, to, his, bedroom,...</td>\n",
              "      <td>[harry, ran, back, upstairs, bedroom, arriving...</td>\n",
              "      <td>5235</td>\n",
              "    </tr>\n",
              "    <tr>\n",
              "      <th>4</th>\n",
              "      <td>Hagrid?\\Harry struggled to raise himself out o...</td>\n",
              "      <td>5</td>\n",
              "      <td>7</td>\n",
              "      <td>[hagridharry, struggled, to, raise, himself, o...</td>\n",
              "      <td>[hagridharry, struggled, raise, debris, metal,...</td>\n",
              "      <td>5686</td>\n",
              "    </tr>\n",
              "  </tbody>\n",
              "</table>\n",
              "</div>\n",
              "      <button class=\"colab-df-convert\" onclick=\"convertToInteractive('df-d6070c77-c9b1-42e5-918b-404a41181a2b')\"\n",
              "              title=\"Convert this dataframe to an interactive table.\"\n",
              "              style=\"display:none;\">\n",
              "        \n",
              "  <svg xmlns=\"http://www.w3.org/2000/svg\" height=\"24px\"viewBox=\"0 0 24 24\"\n",
              "       width=\"24px\">\n",
              "    <path d=\"M0 0h24v24H0V0z\" fill=\"none\"/>\n",
              "    <path d=\"M18.56 5.44l.94 2.06.94-2.06 2.06-.94-2.06-.94-.94-2.06-.94 2.06-2.06.94zm-11 1L8.5 8.5l.94-2.06 2.06-.94-2.06-.94L8.5 2.5l-.94 2.06-2.06.94zm10 10l.94 2.06.94-2.06 2.06-.94-2.06-.94-.94-2.06-.94 2.06-2.06.94z\"/><path d=\"M17.41 7.96l-1.37-1.37c-.4-.4-.92-.59-1.43-.59-.52 0-1.04.2-1.43.59L10.3 9.45l-7.72 7.72c-.78.78-.78 2.05 0 2.83L4 21.41c.39.39.9.59 1.41.59.51 0 1.02-.2 1.41-.59l7.78-7.78 2.81-2.81c.8-.78.8-2.07 0-2.86zM5.41 20L4 18.59l7.72-7.72 1.47 1.35L5.41 20z\"/>\n",
              "  </svg>\n",
              "      </button>\n",
              "      \n",
              "  <style>\n",
              "    .colab-df-container {\n",
              "      display:flex;\n",
              "      flex-wrap:wrap;\n",
              "      gap: 12px;\n",
              "    }\n",
              "\n",
              "    .colab-df-convert {\n",
              "      background-color: #E8F0FE;\n",
              "      border: none;\n",
              "      border-radius: 50%;\n",
              "      cursor: pointer;\n",
              "      display: none;\n",
              "      fill: #1967D2;\n",
              "      height: 32px;\n",
              "      padding: 0 0 0 0;\n",
              "      width: 32px;\n",
              "    }\n",
              "\n",
              "    .colab-df-convert:hover {\n",
              "      background-color: #E2EBFA;\n",
              "      box-shadow: 0px 1px 2px rgba(60, 64, 67, 0.3), 0px 1px 3px 1px rgba(60, 64, 67, 0.15);\n",
              "      fill: #174EA6;\n",
              "    }\n",
              "\n",
              "    [theme=dark] .colab-df-convert {\n",
              "      background-color: #3B4455;\n",
              "      fill: #D2E3FC;\n",
              "    }\n",
              "\n",
              "    [theme=dark] .colab-df-convert:hover {\n",
              "      background-color: #434B5C;\n",
              "      box-shadow: 0px 1px 3px 1px rgba(0, 0, 0, 0.15);\n",
              "      filter: drop-shadow(0px 1px 2px rgba(0, 0, 0, 0.3));\n",
              "      fill: #FFFFFF;\n",
              "    }\n",
              "  </style>\n",
              "\n",
              "      <script>\n",
              "        const buttonEl =\n",
              "          document.querySelector('#df-d6070c77-c9b1-42e5-918b-404a41181a2b button.colab-df-convert');\n",
              "        buttonEl.style.display =\n",
              "          google.colab.kernel.accessAllowed ? 'block' : 'none';\n",
              "\n",
              "        async function convertToInteractive(key) {\n",
              "          const element = document.querySelector('#df-d6070c77-c9b1-42e5-918b-404a41181a2b');\n",
              "          const dataTable =\n",
              "            await google.colab.kernel.invokeFunction('convertToInteractive',\n",
              "                                                     [key], {});\n",
              "          if (!dataTable) return;\n",
              "\n",
              "          const docLinkHtml = 'Like what you see? Visit the ' +\n",
              "            '<a target=\"_blank\" href=https://colab.research.google.com/notebooks/data_table.ipynb>data table notebook</a>'\n",
              "            + ' to learn more about interactive tables.';\n",
              "          element.innerHTML = '';\n",
              "          dataTable['output_type'] = 'display_data';\n",
              "          await google.colab.output.renderOutput(dataTable, element);\n",
              "          const docLink = document.createElement('div');\n",
              "          docLink.innerHTML = docLinkHtml;\n",
              "          element.appendChild(docLink);\n",
              "        }\n",
              "      </script>\n",
              "    </div>\n",
              "  </div>\n",
              "  "
            ],
            "text/plain": [
              "                                                Text  Chapter  Book  \\\n",
              "0  The two men appeared out of nowhere, a few yar...        1     7   \n",
              "1  Harry was bleeding. Clutching his right hand i...        2     7   \n",
              "2  The sound of the front door slamming echoed up...        3     7   \n",
              "3  Harry ran back upstairs to his bedroom, arrivi...        4     7   \n",
              "4  Hagrid?\\Harry struggled to raise himself out o...        5     7   \n",
              "\n",
              "                                       WordCountText  \\\n",
              "0  [the, two, men, appeared, out, of, nowhere, a,...   \n",
              "1  [harry, was, bleeding, clutching, his, right, ...   \n",
              "2  [the, sound, of, the, front, door, slamming, e...   \n",
              "3  [harry, ran, back, upstairs, to, his, bedroom,...   \n",
              "4  [hagridharry, struggled, to, raise, himself, o...   \n",
              "\n",
              "                                       WordCloudText  WordCount  \n",
              "0  [two, men, appeared, nowhere, yards, apart, na...       3025  \n",
              "1  [harry, bleeding, clutching, right, hand, left...       4018  \n",
              "2  [sound, front, door, slamming, echoed, stairs,...       3222  \n",
              "3  [harry, ran, back, upstairs, bedroom, arriving...       5235  \n",
              "4  [hagridharry, struggled, raise, debris, metal,...       5686  "
            ]
          },
          "execution_count": 19,
          "metadata": {},
          "output_type": "execute_result"
        }
      ],
      "source": [
        "df.head(5) #Look at top 5 rows - Make sure everything looks appropriate"
      ]
    },
    {
      "cell_type": "markdown",
      "metadata": {
        "id": "QtR9wBts8Iw6"
      },
      "source": [
        "### Word Count Graphs"
      ]
    },
    {
      "cell_type": "code",
      "execution_count": 20,
      "metadata": {
        "id": "w2pDdFkv8Iw7"
      },
      "outputs": [],
      "source": [
        "#Import packages\n",
        "%matplotlib inline\n",
        "\n",
        "import matplotlib\n",
        "import matplotlib.pyplot as plt\n",
        "import numpy as np\n",
        "\n",
        "#Set defaults for graph formats\n",
        "plt.rcParams['figure.figsize']=(15,10) #Sets default for the size of the graph\n",
        "matplotlib.rcParams['axes.titlesize']=24 #Sets default for the size of the title\n",
        "matplotlib.rcParams['axes.labelsize']=20 #Sets default for the size of the x/y axis labels"
      ]
    },
    {
      "cell_type": "markdown",
      "metadata": {
        "id": "nMB8ArXl8Iw7"
      },
      "source": [
        "Number of Words in Each Harry Potter Book"
      ]
    },
    {
      "cell_type": "code",
      "execution_count": 21,
      "metadata": {
        "colab": {
          "base_uri": "https://localhost:8080/",
          "height": 626
        },
        "id": "P4pzTX4a8Iw8",
        "outputId": "b9787116-816e-472d-f0c8-ab2b5d7ffd0d"
      },
      "outputs": [
        {
          "data": {
            "image/png": "[encoded data removed]",
            "text/plain": [
              "<Figure size 1080x720 with 1 Axes>"
            ]
          },
          "metadata": {},
          "output_type": "display_data"
        }
      ],
      "source": [
        "BookTitles=[\"Philosopher's Stone\", \"Chamber of Secrets\", \"Prisoner of Azkaban\", \"Goblet of Fire\",\n",
        "           \"Order of the Phoenix\", \"Half Blood Prince\", \"Deathly Hallows\"]\n",
        "\n",
        "x = df.groupby(['Book'])['WordCount'].sum().reset_index()['Book']\n",
        "y = df.groupby(['Book'])['WordCount'].sum().reset_index()['WordCount']\n",
        "x_pos = np.arange(len(x))\n",
        "plt.style.use('ggplot')\n",
        "barchart=plt.bar(x_pos, y, color=['#DC8458', '#950702', '#8E067D', '#2E8C44', '#395196', '#60A619','#ECA10A'])\n",
        "plt.xlabel(\"Book\")\n",
        "plt.ylabel(\"Word Count\")\n",
        "plt.title(\"Total Number of Words in Each Harry Potter Book\")\n",
        "plt.xticks(x_pos, BookTitles)\n",
        "\n",
        "# Add counts above the two bar graphs\n",
        "for bar in barchart:\n",
        "    height = bar.get_height()\n",
        "    plt.text(bar.get_x() + bar.get_width()/2.0, height, '%d' % int(height), ha='center', va='bottom')\n",
        "\n",
        "\n",
        "#plt.savefig('C://Users/cluel/Documents/GitHub/Harry-Potter-Text-Mining/Output/HPtotalwords.png')"
      ]
    },
    {
      "cell_type": "markdown",
      "metadata": {
        "id": "hh2mun3a8Iw8"
      },
      "source": [
        "Average Number of Words Per Chapter of Harry Potter"
      ]
    },
    {
      "cell_type": "code",
      "execution_count": 22,
      "metadata": {
        "colab": {
          "base_uri": "https://localhost:8080/",
          "height": 626
        },
        "id": "WWJWTC1z8Iw8",
        "outputId": "becb7aef-0e21-4994-eca8-fc4cdd437cca"
      },
      "outputs": [
        {
          "data": {
            "image/png": "[encoded data removed]",
            "text/plain": [
              "<Figure size 1080x720 with 1 Axes>"
            ]
          },
          "metadata": {},
          "output_type": "display_data"
        }
      ],
      "source": [
        "BookTitles=[\"Philosopher's Stone\", \"Chamber of Secrets\", \"Prisoner of Azkaban\", \"Goblet of Fire\",\n",
        "           \"Order of the Phoenix\", \"Half Blood Prince\", \"Deathly Hallows\"]\n",
        "\n",
        "x = df.groupby(['Book'])['WordCount'].mean().reset_index()['Book']\n",
        "y = df.groupby(['Book'])['WordCount'].mean().reset_index()['WordCount']\n",
        "x_pos = np.arange(len(x))\n",
        "plt.style.use('ggplot')\n",
        "barchart=plt.bar(x_pos, y, color=['#DC8458', '#950702', '#8E067D', '#2E8C44', '#395196', '#60A619','#ECA10A'])\n",
        "plt.xlabel(\"Book\")\n",
        "plt.ylabel(\"Word Count\")\n",
        "plt.title(\"Average Number of Words Per Chapter of Each Harry Potter Book\")\n",
        "plt.xticks(x_pos, BookTitles)\n",
        "\n",
        "# Add counts above the two bar graphs\n",
        "for bar in barchart:\n",
        "    height = bar.get_height()\n",
        "    plt.text(bar.get_x() + bar.get_width()/2.0, height, '%d' % int(height), ha='center', va='bottom')\n",
        "\n",
        "#plt.savefig('C://Users/cluel/Documents/GitHub/Harry-Potter-Text-Mining/Output/HPavgwords.png')"
      ]
    },
    {
      "cell_type": "markdown",
      "metadata": {
        "id": "JxPNYC3A8Iw9"
      },
      "source": [
        "Shortest Chapter of Each Harry Potter Book"
      ]
    },
    {
      "cell_type": "code",
      "execution_count": 23,
      "metadata": {
        "colab": {
          "base_uri": "https://localhost:8080/",
          "height": 626
        },
        "id": "i3jERo1e8Iw9",
        "outputId": "86e03255-7f91-42f0-acb8-28bd59f474d5"
      },
      "outputs": [
        {
          "data": {
            "image/png": "[encoded data removed]",
            "text/plain": [
              "<Figure size 1080x720 with 1 Axes>"
            ]
          },
          "metadata": {},
          "output_type": "display_data"
        }
      ],
      "source": [
        "BookTitles=[\"Philosopher's Stone\", \"Chamber of Secrets\", \"Prisoner of Azkaban\", \"Goblet of Fire\",\n",
        "           \"Order of the Phoenix\", \"Half Blood Prince\", \"Deathly Hallows\"]\n",
        "\n",
        "x = df.groupby(['Book'])['WordCount'].min().reset_index()['Book']\n",
        "y = df.groupby(['Book'])['WordCount'].min().reset_index()['WordCount']\n",
        "x_pos = np.arange(len(x))\n",
        "plt.style.use('ggplot')\n",
        "barchart=plt.bar(x_pos, y, color=['#DC8458', '#950702', '#8E067D', '#2E8C44', '#395196', '#60A619','#ECA10A'])\n",
        "plt.xlabel(\"Book\")\n",
        "plt.ylabel(\"Word Count\")\n",
        "plt.title(\"Shortest Chapter of Each Harry Potter Book\")\n",
        "plt.xticks(x_pos, BookTitles)\n",
        "\n",
        "# Add counts above the two bar graphs\n",
        "for bar in barchart:\n",
        "    height = bar.get_height()\n",
        "    plt.text(bar.get_x() + bar.get_width()/2.0, height, '%d' % int(height), ha='center', va='bottom')\n",
        "\n",
        "#plt.savefig('C://Users/cluel/Documents/GitHub/Harry-Potter-Text-Mining/Output/HPshortchaps.png')"
      ]
    },
    {
      "cell_type": "markdown",
      "metadata": {
        "id": "3wCtg7t68Iw9"
      },
      "source": [
        "Longest Chapter of Each Harry Potter Book"
      ]
    },
    {
      "cell_type": "code",
      "execution_count": 24,
      "metadata": {
        "colab": {
          "base_uri": "https://localhost:8080/",
          "height": 626
        },
        "id": "8R-F5COo8Iw-",
        "outputId": "c9106db8-c473-4d10-9f4c-5260e4a669ba"
      },
      "outputs": [
        {
          "data": {
            "image/png": "[encoded data removed]",
            "text/plain": [
              "<Figure size 1080x720 with 1 Axes>"
            ]
          },
          "metadata": {},
          "output_type": "display_data"
        }
      ],
      "source": [
        "BookTitles=[\"Philosopher's Stone\", \"Chamber of Secrets\", \"Prisoner of Azkaban\", \"Goblet of Fire\",\n",
        "           \"Order of the Phoenix\", \"Half Blood Prince\", \"Deathly Hallows\"]\n",
        "\n",
        "x = df.groupby(['Book'])['WordCount'].max().reset_index()['Book']\n",
        "y = df.groupby(['Book'])['WordCount'].max().reset_index()['WordCount']\n",
        "x_pos = np.arange(len(x))\n",
        "plt.style.use('ggplot')\n",
        "barchart=plt.bar(x_pos, y, color=['#DC8458', '#950702', '#8E067D', '#2E8C44', '#395196', '#60A619','#ECA10A'])\n",
        "plt.xlabel(\"Book\")\n",
        "plt.ylabel(\"Word Count\")\n",
        "plt.title(\"Longest Chapter of Each Harry Potter Book\")\n",
        "plt.xticks(x_pos, BookTitles)\n",
        "\n",
        "# Add counts above the two bar graphs\n",
        "for bar in barchart:\n",
        "    height = bar.get_height()\n",
        "    plt.text(bar.get_x() + bar.get_width()/2.0, height, '%d' % int(height), ha='center', va='bottom')\n",
        "    \n",
        "#plt.savefig('C://Users/cluel/Documents/GitHub/Harry-Potter-Text-Mining/Output/HPlongchaps.png')"
      ]
    },
    {
      "cell_type": "markdown",
      "metadata": {
        "id": "iZlBctLe8Iw-"
      },
      "source": [
        "Which chapter was the shortest?"
      ]
    },
    {
      "cell_type": "code",
      "execution_count": 25,
      "metadata": {
        "colab": {
          "base_uri": "https://localhost:8080/",
          "height": 434
        },
        "id": "gNlSv5Ae8Iw-",
        "outputId": "96f2b185-785d-4e07-ba3f-4475ed75585f",
        "scrolled": true
      },
      "outputs": [
        {
          "data": {
            "text/html": [
              "\n",
              "  <div id=\"df-f0ac20c2-fef2-4abc-8612-1b0458bbabac\">\n",
              "    <div class=\"colab-df-container\">\n",
              "      <div>\n",
              "<style scoped>\n",
              "    .dataframe tbody tr th:only-of-type {\n",
              "        vertical-align: middle;\n",
              "    }\n",
              "\n",
              "    .dataframe tbody tr th {\n",
              "        vertical-align: top;\n",
              "    }\n",
              "\n",
              "    .dataframe thead th {\n",
              "        text-align: right;\n",
              "    }\n",
              "</style>\n",
              "<table border=\"1\" class=\"dataframe\">\n",
              "  <thead>\n",
              "    <tr style=\"text-align: right;\">\n",
              "      <th></th>\n",
              "      <th>Text</th>\n",
              "      <th>Chapter</th>\n",
              "      <th>Book</th>\n",
              "      <th>WordCountText</th>\n",
              "      <th>WordCloudText</th>\n",
              "      <th>WordCount</th>\n",
              "    </tr>\n",
              "  </thead>\n",
              "  <tbody>\n",
              "    <tr>\n",
              "      <th>7</th>\n",
              "      <td>THE POTIONS MASTER  There, look.\\  \\\"Where?\\\" ...</td>\n",
              "      <td>8</td>\n",
              "      <td>1</td>\n",
              "      <td>[the, potions, master, there, look, where, nex...</td>\n",
              "      <td>[potions, master, look, next, tall, kid, red, ...</td>\n",
              "      <td>3064</td>\n",
              "    </tr>\n",
              "    <tr>\n",
              "      <th>13</th>\n",
              "      <td>still, heart-shaped confetti was falling from ...</td>\n",
              "      <td>14</td>\n",
              "      <td>2</td>\n",
              "      <td>[still, heartshaped, confetti, was, falling, f...</td>\n",
              "      <td>[still, heartshaped, confetti, falling, pale, ...</td>\n",
              "      <td>2378</td>\n",
              "    </tr>\n",
              "    <tr>\n",
              "      <th>19</th>\n",
              "      <td>THE DEMENTOR'S KISS  Harry had never been pa...</td>\n",
              "      <td>20</td>\n",
              "      <td>3</td>\n",
              "      <td>[the, dementors, kiss, harry, had, never, been...</td>\n",
              "      <td>[dementors, kiss, harry, never, part, stranger...</td>\n",
              "      <td>1937</td>\n",
              "    </tr>\n",
              "    <tr>\n",
              "      <th>31</th>\n",
              "      <td>Harry felt his feet slam into the ground; h...</td>\n",
              "      <td>32</td>\n",
              "      <td>4</td>\n",
              "      <td>[harry, felt, his, feet, slam, into, the, grou...</td>\n",
              "      <td>[harry, felt, feet, slam, ground, injured, leg...</td>\n",
              "      <td>2002</td>\n",
              "    </tr>\n",
              "    <tr>\n",
              "      <th>35</th>\n",
              "      <td>The Only OneHe Ever Feared'He hasn't gone!' Ha...</td>\n",
              "      <td>36</td>\n",
              "      <td>5</td>\n",
              "      <td>[the, only, onehe, ever, fearedhe, hasnt, gone...</td>\n",
              "      <td>[onehe, ever, fearedhe, gone, harry, yelled, b...</td>\n",
              "      <td>3823</td>\n",
              "    </tr>\n",
              "    <tr>\n",
              "      <th>27</th>\n",
              "      <td>Harry felt as though he too were hurtling thr...</td>\n",
              "      <td>28</td>\n",
              "      <td>6</td>\n",
              "      <td>[harry, felt, as, though, he, too, were, hurtl...</td>\n",
              "      <td>[harry, felt, though, hurtling, space, happene...</td>\n",
              "      <td>3549</td>\n",
              "    </tr>\n",
              "    <tr>\n",
              "      <th>36</th>\n",
              "      <td>Autumn seemed to arrive suddenly that year. Th...</td>\n",
              "      <td>37</td>\n",
              "      <td>7</td>\n",
              "      <td>[autumn, seemed, to, arrive, suddenly, that, y...</td>\n",
              "      <td>[autumn, seemed, arrive, suddenly, year, morni...</td>\n",
              "      <td>1552</td>\n",
              "    </tr>\n",
              "  </tbody>\n",
              "</table>\n",
              "</div>\n",
              "      <button class=\"colab-df-convert\" onclick=\"convertToInteractive('df-f0ac20c2-fef2-4abc-8612-1b0458bbabac')\"\n",
              "              title=\"Convert this dataframe to an interactive table.\"\n",
              "              style=\"display:none;\">\n",
              "        \n",
              "  <svg xmlns=\"http://www.w3.org/2000/svg\" height=\"24px\"viewBox=\"0 0 24 24\"\n",
              "       width=\"24px\">\n",
              "    <path d=\"M0 0h24v24H0V0z\" fill=\"none\"/>\n",
              "    <path d=\"M18.56 5.44l.94 2.06.94-2.06 2.06-.94-2.06-.94-.94-2.06-.94 2.06-2.06.94zm-11 1L8.5 8.5l.94-2.06 2.06-.94-2.06-.94L8.5 2.5l-.94 2.06-2.06.94zm10 10l.94 2.06.94-2.06 2.06-.94-2.06-.94-.94-2.06-.94 2.06-2.06.94z\"/><path d=\"M17.41 7.96l-1.37-1.37c-.4-.4-.92-.59-1.43-.59-.52 0-1.04.2-1.43.59L10.3 9.45l-7.72 7.72c-.78.78-.78 2.05 0 2.83L4 21.41c.39.39.9.59 1.41.59.51 0 1.02-.2 1.41-.59l7.78-7.78 2.81-2.81c.8-.78.8-2.07 0-2.86zM5.41 20L4 18.59l7.72-7.72 1.47 1.35L5.41 20z\"/>\n",
              "  </svg>\n",
              "      </button>\n",
              "      \n",
              "  <style>\n",
              "    .colab-df-container {\n",
              "      display:flex;\n",
              "      flex-wrap:wrap;\n",
              "      gap: 12px;\n",
              "    }\n",
              "\n",
              "    .colab-df-convert {\n",
              "      background-color: #E8F0FE;\n",
              "      border: none;\n",
              "      border-radius: 50%;\n",
              "      cursor: pointer;\n",
              "      display: none;\n",
              "      fill: #1967D2;\n",
              "      height: 32px;\n",
              "      padding: 0 0 0 0;\n",
              "      width: 32px;\n",
              "    }\n",
              "\n",
              "    .colab-df-convert:hover {\n",
              "      background-color: #E2EBFA;\n",
              "      box-shadow: 0px 1px 2px rgba(60, 64, 67, 0.3), 0px 1px 3px 1px rgba(60, 64, 67, 0.15);\n",
              "      fill: #174EA6;\n",
              "    }\n",
              "\n",
              "    [theme=dark] .colab-df-convert {\n",
              "      background-color: #3B4455;\n",
              "      fill: #D2E3FC;\n",
              "    }\n",
              "\n",
              "    [theme=dark] .colab-df-convert:hover {\n",
              "      background-color: #434B5C;\n",
              "      box-shadow: 0px 1px 3px 1px rgba(0, 0, 0, 0.15);\n",
              "      filter: drop-shadow(0px 1px 2px rgba(0, 0, 0, 0.3));\n",
              "      fill: #FFFFFF;\n",
              "    }\n",
              "  </style>\n",
              "\n",
              "      <script>\n",
              "        const buttonEl =\n",
              "          document.querySelector('#df-f0ac20c2-fef2-4abc-8612-1b0458bbabac button.colab-df-convert');\n",
              "        buttonEl.style.display =\n",
              "          google.colab.kernel.accessAllowed ? 'block' : 'none';\n",
              "\n",
              "        async function convertToInteractive(key) {\n",
              "          const element = document.querySelector('#df-f0ac20c2-fef2-4abc-8612-1b0458bbabac');\n",
              "          const dataTable =\n",
              "            await google.colab.kernel.invokeFunction('convertToInteractive',\n",
              "                                                     [key], {});\n",
              "          if (!dataTable) return;\n",
              "\n",
              "          const docLinkHtml = 'Like what you see? Visit the ' +\n",
              "            '<a target=\"_blank\" href=https://colab.research.google.com/notebooks/data_table.ipynb>data table notebook</a>'\n",
              "            + ' to learn more about interactive tables.';\n",
              "          element.innerHTML = '';\n",
              "          dataTable['output_type'] = 'display_data';\n",
              "          await google.colab.output.renderOutput(dataTable, element);\n",
              "          const docLink = document.createElement('div');\n",
              "          docLink.innerHTML = docLinkHtml;\n",
              "          element.appendChild(docLink);\n",
              "        }\n",
              "      </script>\n",
              "    </div>\n",
              "  </div>\n",
              "  "
            ],
            "text/plain": [
              "                                                 Text  Chapter  Book  \\\n",
              "7   THE POTIONS MASTER  There, look.\\  \\\"Where?\\\" ...        8     1   \n",
              "13  still, heart-shaped confetti was falling from ...       14     2   \n",
              "19    THE DEMENTOR'S KISS  Harry had never been pa...       20     3   \n",
              "31     Harry felt his feet slam into the ground; h...       32     4   \n",
              "35  The Only OneHe Ever Feared'He hasn't gone!' Ha...       36     5   \n",
              "27   Harry felt as though he too were hurtling thr...       28     6   \n",
              "36  Autumn seemed to arrive suddenly that year. Th...       37     7   \n",
              "\n",
              "                                        WordCountText  \\\n",
              "7   [the, potions, master, there, look, where, nex...   \n",
              "13  [still, heartshaped, confetti, was, falling, f...   \n",
              "19  [the, dementors, kiss, harry, had, never, been...   \n",
              "31  [harry, felt, his, feet, slam, into, the, grou...   \n",
              "35  [the, only, onehe, ever, fearedhe, hasnt, gone...   \n",
              "27  [harry, felt, as, though, he, too, were, hurtl...   \n",
              "36  [autumn, seemed, to, arrive, suddenly, that, y...   \n",
              "\n",
              "                                        WordCloudText  WordCount  \n",
              "7   [potions, master, look, next, tall, kid, red, ...       3064  \n",
              "13  [still, heartshaped, confetti, falling, pale, ...       2378  \n",
              "19  [dementors, kiss, harry, never, part, stranger...       1937  \n",
              "31  [harry, felt, feet, slam, ground, injured, leg...       2002  \n",
              "35  [onehe, ever, fearedhe, gone, harry, yelled, b...       3823  \n",
              "27  [harry, felt, though, hurtling, space, happene...       3549  \n",
              "36  [autumn, seemed, arrive, suddenly, year, morni...       1552  "
            ]
          },
          "execution_count": 25,
          "metadata": {},
          "output_type": "execute_result"
        }
      ],
      "source": [
        "one = df.groupby(['Book'])['WordCount'].min().reset_index()['Book']\n",
        "two = df.groupby(['Book'])['WordCount'].min().reset_index()['WordCount']\n",
        "\n",
        "#del MinChaps\n",
        "\n",
        "MinChaps=pd.DataFrame()\n",
        "\n",
        "for (a, b) in zip(one, two): \n",
        "     MinChaps = pd.concat([MinChaps, df[(df.WordCount == b) & (df.Book == a)]])\n",
        "\n",
        "MinChaps"
      ]
    },
    {
      "cell_type": "markdown",
      "metadata": {
        "id": "ifyFvIPF8Iw-"
      },
      "source": [
        "Which chapter was the longest?"
      ]
    },
    {
      "cell_type": "code",
      "execution_count": 26,
      "metadata": {
        "colab": {
          "base_uri": "https://localhost:8080/",
          "height": 434
        },
        "id": "IY9m84rv8Iw_",
        "outputId": "c88cff5b-151e-43a1-b07b-0cf46e36024e"
      },
      "outputs": [
        {
          "data": {
            "text/html": [
              "\n",
              "  <div id=\"df-51c598d8-2cd5-47b9-999d-c377abb1bf82\">\n",
              "    <div class=\"colab-df-container\">\n",
              "      <div>\n",
              "<style scoped>\n",
              "    .dataframe tbody tr th:only-of-type {\n",
              "        vertical-align: middle;\n",
              "    }\n",
              "\n",
              "    .dataframe tbody tr th {\n",
              "        vertical-align: top;\n",
              "    }\n",
              "\n",
              "    .dataframe thead th {\n",
              "        text-align: right;\n",
              "    }\n",
              "</style>\n",
              "<table border=\"1\" class=\"dataframe\">\n",
              "  <thead>\n",
              "    <tr style=\"text-align: right;\">\n",
              "      <th></th>\n",
              "      <th>Text</th>\n",
              "      <th>Chapter</th>\n",
              "      <th>Book</th>\n",
              "      <th>WordCountText</th>\n",
              "      <th>WordCloudText</th>\n",
              "      <th>WordCount</th>\n",
              "    </tr>\n",
              "  </thead>\n",
              "  <tbody>\n",
              "    <tr>\n",
              "      <th>4</th>\n",
              "      <td>DIAGON ALLEY  Harry woke early the next mornin...</td>\n",
              "      <td>5</td>\n",
              "      <td>1</td>\n",
              "      <td>[diagon, alley, harry, woke, early, the, next,...</td>\n",
              "      <td>[diagon, alley, harry, woke, early, next, morn...</td>\n",
              "      <td>6570</td>\n",
              "    </tr>\n",
              "    <tr>\n",
              "      <th>18</th>\n",
              "      <td>\\What d'you mean, I won't be -?\\\"  \\\"I've wa...</td>\n",
              "      <td>19</td>\n",
              "      <td>2</td>\n",
              "      <td>[what, dyou, mean, i, wont, be, ive, waited, a...</td>\n",
              "      <td>[dyou, mean, ive, waited, long, time, harry, p...</td>\n",
              "      <td>8528</td>\n",
              "    </tr>\n",
              "    <tr>\n",
              "      <th>20</th>\n",
              "      <td>HERMIONE'S SECRET  Shocking business... shoc...</td>\n",
              "      <td>21</td>\n",
              "      <td>3</td>\n",
              "      <td>[hermiones, secret, shocking, business, shocki...</td>\n",
              "      <td>[hermiones, secret, shocking, business, shocki...</td>\n",
              "      <td>7237</td>\n",
              "    </tr>\n",
              "    <tr>\n",
              "      <th>22</th>\n",
              "      <td>Despite the very heavy load of homework tha...</td>\n",
              "      <td>23</td>\n",
              "      <td>4</td>\n",
              "      <td>[despite, the, very, heavy, load, of, homework...</td>\n",
              "      <td>[despite, heavy, load, homework, fourth, years...</td>\n",
              "      <td>8177</td>\n",
              "    </tr>\n",
              "    <tr>\n",
              "      <th>12</th>\n",
              "      <td>Dentention with DeloresDinner in the Great Hal...</td>\n",
              "      <td>13</td>\n",
              "      <td>5</td>\n",
              "      <td>[dentention, with, deloresdinner, in, the, gre...</td>\n",
              "      <td>[dentention, deloresdinner, great, hall, night...</td>\n",
              "      <td>8928</td>\n",
              "    </tr>\n",
              "    <tr>\n",
              "      <th>17</th>\n",
              "      <td>The next day Harry confided in both Ron and H...</td>\n",
              "      <td>18</td>\n",
              "      <td>6</td>\n",
              "      <td>[the, next, day, harry, confided, in, both, ro...</td>\n",
              "      <td>[next, day, harry, confided, ron, hermione, ta...</td>\n",
              "      <td>7045</td>\n",
              "    </tr>\n",
              "    <tr>\n",
              "      <th>32</th>\n",
              "      <td>Harry remained kneeling at Snape's side, simpl...</td>\n",
              "      <td>33</td>\n",
              "      <td>7</td>\n",
              "      <td>[harry, remained, kneeling, at, snapes, side, ...</td>\n",
              "      <td>[harry, remained, kneeling, snapes, side, simp...</td>\n",
              "      <td>7930</td>\n",
              "    </tr>\n",
              "  </tbody>\n",
              "</table>\n",
              "</div>\n",
              "      <button class=\"colab-df-convert\" onclick=\"convertToInteractive('df-51c598d8-2cd5-47b9-999d-c377abb1bf82')\"\n",
              "              title=\"Convert this dataframe to an interactive table.\"\n",
              "              style=\"display:none;\">\n",
              "        \n",
              "  <svg xmlns=\"http://www.w3.org/2000/svg\" height=\"24px\"viewBox=\"0 0 24 24\"\n",
              "       width=\"24px\">\n",
              "    <path d=\"M0 0h24v24H0V0z\" fill=\"none\"/>\n",
              "    <path d=\"M18.56 5.44l.94 2.06.94-2.06 2.06-.94-2.06-.94-.94-2.06-.94 2.06-2.06.94zm-11 1L8.5 8.5l.94-2.06 2.06-.94-2.06-.94L8.5 2.5l-.94 2.06-2.06.94zm10 10l.94 2.06.94-2.06 2.06-.94-2.06-.94-.94-2.06-.94 2.06-2.06.94z\"/><path d=\"M17.41 7.96l-1.37-1.37c-.4-.4-.92-.59-1.43-.59-.52 0-1.04.2-1.43.59L10.3 9.45l-7.72 7.72c-.78.78-.78 2.05 0 2.83L4 21.41c.39.39.9.59 1.41.59.51 0 1.02-.2 1.41-.59l7.78-7.78 2.81-2.81c.8-.78.8-2.07 0-2.86zM5.41 20L4 18.59l7.72-7.72 1.47 1.35L5.41 20z\"/>\n",
              "  </svg>\n",
              "      </button>\n",
              "      \n",
              "  <style>\n",
              "    .colab-df-container {\n",
              "      display:flex;\n",
              "      flex-wrap:wrap;\n",
              "      gap: 12px;\n",
              "    }\n",
              "\n",
              "    .colab-df-convert {\n",
              "      background-color: #E8F0FE;\n",
              "      border: none;\n",
              "      border-radius: 50%;\n",
              "      cursor: pointer;\n",
              "      display: none;\n",
              "      fill: #1967D2;\n",
              "      height: 32px;\n",
              "      padding: 0 0 0 0;\n",
              "      width: 32px;\n",
              "    }\n",
              "\n",
              "    .colab-df-convert:hover {\n",
              "      background-color: #E2EBFA;\n",
              "      box-shadow: 0px 1px 2px rgba(60, 64, 67, 0.3), 0px 1px 3px 1px rgba(60, 64, 67, 0.15);\n",
              "      fill: #174EA6;\n",
              "    }\n",
              "\n",
              "    [theme=dark] .colab-df-convert {\n",
              "      background-color: #3B4455;\n",
              "      fill: #D2E3FC;\n",
              "    }\n",
              "\n",
              "    [theme=dark] .colab-df-convert:hover {\n",
              "      background-color: #434B5C;\n",
              "      box-shadow: 0px 1px 3px 1px rgba(0, 0, 0, 0.15);\n",
              "      filter: drop-shadow(0px 1px 2px rgba(0, 0, 0, 0.3));\n",
              "      fill: #FFFFFF;\n",
              "    }\n",
              "  </style>\n",
              "\n",
              "      <script>\n",
              "        const buttonEl =\n",
              "          document.querySelector('#df-51c598d8-2cd5-47b9-999d-c377abb1bf82 button.colab-df-convert');\n",
              "        buttonEl.style.display =\n",
              "          google.colab.kernel.accessAllowed ? 'block' : 'none';\n",
              "\n",
              "        async function convertToInteractive(key) {\n",
              "          const element = document.querySelector('#df-51c598d8-2cd5-47b9-999d-c377abb1bf82');\n",
              "          const dataTable =\n",
              "            await google.colab.kernel.invokeFunction('convertToInteractive',\n",
              "                                                     [key], {});\n",
              "          if (!dataTable) return;\n",
              "\n",
              "          const docLinkHtml = 'Like what you see? Visit the ' +\n",
              "            '<a target=\"_blank\" href=https://colab.research.google.com/notebooks/data_table.ipynb>data table notebook</a>'\n",
              "            + ' to learn more about interactive tables.';\n",
              "          element.innerHTML = '';\n",
              "          dataTable['output_type'] = 'display_data';\n",
              "          await google.colab.output.renderOutput(dataTable, element);\n",
              "          const docLink = document.createElement('div');\n",
              "          docLink.innerHTML = docLinkHtml;\n",
              "          element.appendChild(docLink);\n",
              "        }\n",
              "      </script>\n",
              "    </div>\n",
              "  </div>\n",
              "  "
            ],
            "text/plain": [
              "                                                 Text  Chapter  Book  \\\n",
              "4   DIAGON ALLEY  Harry woke early the next mornin...        5     1   \n",
              "18    \\What d'you mean, I won't be -?\\\"  \\\"I've wa...       19     2   \n",
              "20    HERMIONE'S SECRET  Shocking business... shoc...       21     3   \n",
              "22     Despite the very heavy load of homework tha...       23     4   \n",
              "12  Dentention with DeloresDinner in the Great Hal...       13     5   \n",
              "17   The next day Harry confided in both Ron and H...       18     6   \n",
              "32  Harry remained kneeling at Snape's side, simpl...       33     7   \n",
              "\n",
              "                                        WordCountText  \\\n",
              "4   [diagon, alley, harry, woke, early, the, next,...   \n",
              "18  [what, dyou, mean, i, wont, be, ive, waited, a...   \n",
              "20  [hermiones, secret, shocking, business, shocki...   \n",
              "22  [despite, the, very, heavy, load, of, homework...   \n",
              "12  [dentention, with, deloresdinner, in, the, gre...   \n",
              "17  [the, next, day, harry, confided, in, both, ro...   \n",
              "32  [harry, remained, kneeling, at, snapes, side, ...   \n",
              "\n",
              "                                        WordCloudText  WordCount  \n",
              "4   [diagon, alley, harry, woke, early, next, morn...       6570  \n",
              "18  [dyou, mean, ive, waited, long, time, harry, p...       8528  \n",
              "20  [hermiones, secret, shocking, business, shocki...       7237  \n",
              "22  [despite, heavy, load, homework, fourth, years...       8177  \n",
              "12  [dentention, deloresdinner, great, hall, night...       8928  \n",
              "17  [next, day, harry, confided, ron, hermione, ta...       7045  \n",
              "32  [harry, remained, kneeling, snapes, side, simp...       7930  "
            ]
          },
          "execution_count": 26,
          "metadata": {},
          "output_type": "execute_result"
        }
      ],
      "source": [
        "one = df.groupby(['Book'])['WordCount'].max().reset_index()['Book']\n",
        "two = df.groupby(['Book'])['WordCount'].max().reset_index()['WordCount']\n",
        "\n",
        "#del MaxChaps\n",
        "\n",
        "MaxChaps=pd.DataFrame()\n",
        "\n",
        "for (a, b) in zip(one, two): \n",
        "     MaxChaps = pd.concat([MaxChaps, df[(df.WordCount == b) & (df.Book == a)]])\n",
        "        \n",
        "MaxChaps"
      ]
    },
    {
      "cell_type": "markdown",
      "metadata": {
        "id": "5P0W4JBv8Iw_"
      },
      "source": [
        "### Save copy of df - For Word Cloud, Sentiment Analysis"
      ]
    },
    {
      "cell_type": "code",
      "execution_count": 27,
      "metadata": {
        "id": "kd_v69Uo8Iw_"
      },
      "outputs": [],
      "source": [
        "df.to_excel(\"./df.xlsx\", index=False)"
      ]
    }
  ],
  "metadata": {
    "colab": {
      "include_colab_link": true,
      "provenance": []
    },
    "kernelspec": {
      "display_name": "Python 3",
      "language": "python",
      "name": "python3"
    },
    "language_info": {
      "codemirror_mode": {
        "name": "ipython",
        "version": 3
      },
      "file_extension": ".py",
      "mimetype": "text/x-python",
      "name": "python",
      "nbconvert_exporter": "python",
      "pygments_lexer": "ipython3",
      "version": "3.7.3"
    }
  },
  "nbformat": 4,
  "nbformat_minor": 0
}
