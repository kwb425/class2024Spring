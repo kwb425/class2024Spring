{
  "cells": [
    {
      "cell_type": "markdown",
      "metadata": {
        "colab_type": "text",
        "id": "view-in-github"
      },
      "source": [
        "<a href=\"https://colab.research.google.com/github/kwb425/class2024Spring/blob/main/class2024Spring_0503-1.ipynb\" target=\"_parent\"><img src=\"https://colab.research.google.com/assets/colab-badge.svg\" alt=\"Open In Colab\"/></a>"
      ]
    },
    {
      "cell_type": "code",
      "execution_count": null,
      "metadata": {
        "id": "t-NOmRKs2BxY"
      },
      "outputs": [],
      "source": [
        "!pip install spotipy\n",
        "from spotipy.oauth2 import SpotifyClientCredentials\n",
        "import spotipy\n",
        "\n",
        "client_id = \"67e6a2bc931d43b3a3464a06529fb351\"\n",
        "client_secret = \"7b50cf8d7f3b43e9811580324714c194\"\n",
        "\n",
        "client_credentials_manager = SpotifyClientCredentials(client_id=client_id, client_secret=client_secret)\n",
        "sp = spotipy.Spotify(client_credentials_manager=client_credentials_manager)"
      ]
    },
    {
      "cell_type": "code",
      "execution_count": null,
      "metadata": {
        "id": "I_Ix_Cej8pfM"
      },
      "outputs": [],
      "source": [
        "results = sp.search('coldplay', type='album', market  = 'us')"
      ]
    },
    {
      "cell_type": "code",
      "execution_count": null,
      "metadata": {
        "id": "m2zHeslt_Y-f"
      },
      "outputs": [],
      "source": [
        "print(results.keys())\n",
        "print(results['albums'].keys())\n",
        "print(results['albums']['items'][0])\n",
        "uri = results['albums']['items'][0]['uri']"
      ]
    },
    {
      "cell_type": "code",
      "execution_count": null,
      "metadata": {
        "id": "SebOK7DPCyAP"
      },
      "outputs": [],
      "source": [
        "results = sp.album(uri, market  = 'us')\n",
        "print(results.keys())\n",
        "print(results['tracks']['items'][0])\n",
        "print(results['tracks']['items'][0]['name'])\n",
        "print(results['tracks']['items'][0]['preview_url'])\n",
        "uri = results['tracks']['items'][0]['uri']"
      ]
    },
    {
      "cell_type": "code",
      "execution_count": null,
      "metadata": {
        "id": "Urwp5wGj9eqL"
      },
      "outputs": [],
      "source": [
        "results = sp.audio_analysis(uri)\n",
        "print(results.keys())\n",
        "results['meta']"
      ]
    },
    {
      "cell_type": "code",
      "execution_count": null,
      "metadata": {
        "id": "BKpQU_yv_XNy"
      },
      "outputs": [],
      "source": [
        "results = sp.audio_features(uri)\n",
        "results"
      ]
    },
    {
      "cell_type": "code",
      "execution_count": null,
      "metadata": {
        "id": "d0DkUfnxD2Ul"
      },
      "outputs": [],
      "source": [
        "results = sp.search('coldplay', type = 'artist')\n",
        "print(results.keys())\n",
        "print(results['artists']['items'][0]['uri'])\n",
        "uri = results['artists']['items'][0]['uri']"
      ]
    },
    {
      "cell_type": "code",
      "execution_count": null,
      "metadata": {
        "id": "7RJp3n7JSTGh"
      },
      "outputs": [],
      "source": [
        "results = sp.artist_top_tracks(uri)\n",
        "for track in results['tracks'][:5]:\n",
        "    print('track    : ' + track['name'])\n",
        "    print('audio    : ' + track['preview_url'])\n",
        "    print('cover art: ' + track['album']['images'][0]['url'])\n",
        "    print()"
      ]
    },
    {
      "cell_type": "code",
      "execution_count": null,
      "metadata": {
        "id": "xLZDJXg0XmOC"
      },
      "outputs": [],
      "source": [
        "results = sp.artist_albums(uri)\n",
        "print(results.keys())\n",
        "print(results['items'][0]['uri'])\n",
        "uri = results['items'][0]['uri']"
      ]
    },
    {
      "cell_type": "code",
      "execution_count": null,
      "metadata": {
        "id": "NwR2A8tiozKU"
      },
      "outputs": [],
      "source": [
        "results = sp.album(uri)\n",
        "print(results.keys())\n",
        "print(results['name'])"
      ]
    }
  ],
  "metadata": {
    "colab": {
      "authorship_tag": "ABX9TyPZqV4a0rh01+RQrFgLepAe",
      "include_colab_link": true,
      "provenance": []
    },
    "kernelspec": {
      "display_name": "Python 3",
      "name": "python3"
    },
    "language_info": {
      "name": "python"
    }
  },
  "nbformat": 4,
  "nbformat_minor": 0
}
