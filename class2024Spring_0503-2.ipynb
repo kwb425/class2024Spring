{
  "cells": [
    {
      "cell_type": "markdown",
      "metadata": {
        "colab_type": "text",
        "id": "view-in-github"
      },
      "source": [
        "<a href=\"https://colab.research.google.com/github/kwb425/class2024Spring/blob/main/class2024Spring_0503-2.ipynb\" target=\"_parent\"><img src=\"https://colab.research.google.com/assets/colab-badge.svg\" alt=\"Open In Colab\"/></a>"
      ]
    },
    {
      "cell_type": "code",
      "execution_count": null,
      "metadata": {
        "id": "h3dkL_wxfll7"
      },
      "outputs": [],
      "source": [
        "# Install necessary packages\n",
        "!pip install spotipy gradio\n",
        "\n",
        "# Import required libraries\n",
        "import spotipy\n",
        "from spotipy.oauth2 import SpotifyClientCredentials\n",
        "import gradio as gr"
      ]
    },
    {
      "cell_type": "code",
      "execution_count": 2,
      "metadata": {
        "id": "qmm7TCZig09K"
      },
      "outputs": [],
      "source": [
        "# Setup Spotify client with credentials\n",
        "client_id = \"67e6a2bc931d43b3a3464a06529fb351\"\n",
        "client_secret = \"7b50cf8d7f3b43e9811580324714c194\"\n",
        "client_credentials_manager = SpotifyClientCredentials(client_id=client_id, client_secret=client_secret)\n",
        "sp = spotipy.Spotify(client_credentials_manager=client_credentials_manager)\n",
        "\n",
        "def artist_uri(artist_name):\n",
        "  results = sp.search(artist_name, type='artist')\n",
        "  artist_uri = results['artists']['items'][0]['uri']\n",
        "  return artist_uri\n",
        "\n",
        "def album_names(artist_uri):\n",
        "  results = sp.artist_albums(artist_uri, country = 'us')\n",
        "  names = [x['name']+'\\n' for x in results['items']]\n",
        "  names = ''.join(names)\n",
        "  return names\n",
        "\n",
        "def album_images(artist_uri):\n",
        "  results = sp.artist_albums(artist_uri, country = 'us')\n",
        "  images = [x['images'][0]['url'] for x in results['items']]\n",
        "  return images"
      ]
    },
    {
      "cell_type": "code",
      "execution_count": null,
      "metadata": {
        "id": "LPHpTEvl_wA8"
      },
      "outputs": [],
      "source": [
        "album_images(artist_uri('bts'))"
      ]
    },
    {
      "cell_type": "code",
      "execution_count": null,
      "metadata": {
        "id": "WiaD4H_t_Ue9"
      },
      "outputs": [],
      "source": [
        "sp.artist_albums(artist_uri('bts'), country = 'us')"
      ]
    },
    {
      "cell_type": "code",
      "execution_count": null,
      "metadata": {
        "id": "wPNr-nLRgAJP"
      },
      "outputs": [],
      "source": [
        "# Gradio interface setup\n",
        "with gr.Blocks() as app:\n",
        "    with gr.Row():\n",
        "        artist_input = gr.Textbox(label=\"Enter artist name\")\n",
        "        search_button = gr.Button(\"Search\")\n",
        "    with gr.Row():\n",
        "        album_name_output = gr.Textbox(label=\"Album names\")\n",
        "        album_image_output = gr.Gallery(label=\"Album images\", show_label=False)\n",
        "\n",
        "    search_button.click(\n",
        "        fn=lambda x: (album_names(artist_uri(x)), album_images(artist_uri(x))),\n",
        "        inputs=artist_input,\n",
        "        outputs=[album_name_output, album_image_output]\n",
        "    )\n",
        "\n",
        "app.launch(debug=True)"
      ]
    }
  ],
  "metadata": {
    "colab": {
      "authorship_tag": "ABX9TyOncHmv2lEKFbtFss9IhfkF",
      "include_colab_link": true,
      "provenance": []
    },
    "kernelspec": {
      "display_name": "Python 3",
      "name": "python3"
    },
    "language_info": {
      "name": "python"
    }
  },
  "nbformat": 4,
  "nbformat_minor": 0
}
